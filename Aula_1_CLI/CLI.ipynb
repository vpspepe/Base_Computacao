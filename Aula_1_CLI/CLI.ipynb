{
 "cells": [
  {
   "cell_type": "markdown",
   "metadata": {},
   "source": [
    "# ***Terminal***: O que é e como tudo que fazemos no computador são comandos\n",
    "\n",
    "O terminal, também conhecido como linha de comando ou prompt de comando, é uma interface de texto que permite interagir com o sistema operacional por meio de comandos. Ele é uma ferramenta poderosa para executar tarefas e controlar o computador de forma eficiente.\n",
    "\n",
    "No terminal, podemos digitar comandos para realizar uma ampla variedade de ações, como navegar entre pastas, criar e excluir arquivos, instalar e atualizar programas, executar scripts, entre outros. Tudo o que fazemos no computador, na verdade, são comandos executados pelo sistema operacional.\n",
    "\n",
    "Ao utilizar o terminal, podemos aproveitar diversos benefícios, como:\n",
    "\n",
    "1. **Eficiência**: O terminal permite executar tarefas de forma mais rápida e eficiente do que usando interfaces gráficas. Com alguns comandos simples, podemos realizar ações complexas em poucos segundos.\n",
    "\n",
    "2. **Automatização**: Com o terminal, podemos criar scripts e automatizar tarefas repetitivas. Isso nos ajuda a economizar tempo e evitar erros humanos.\n",
    "\n",
    "3. **Flexibilidade**: O terminal oferece uma ampla gama de comandos e opções de personalização. Podemos adaptar o ambiente de trabalho às nossas necessidades e preferências.\n",
    "\n",
    "4. **Acesso remoto**: O terminal permite acessar e controlar computadores remotamente por meio de protocolos como SSH. Isso é útil para administrar servidores ou trabalhar em ambientes de computação em nuvem.\n",
    "\n",
    "Embora o terminal possa parecer intimidante para iniciantes, aprender alguns comandos básicos pode ser extremamente útil no dia a dia. Com o tempo, é possível aprimorar as habilidades e explorar recursos mais avançados.\n",
    "\n",
    "Portanto, o terminal é uma ferramenta essencial para desenvolvedores e usuários avançados, proporcionando um maior controle sobre o sistema operacional e facilitando a execução de tarefas complexas de forma eficiente.\n"
   ]
  },
  {
   "cell_type": "markdown",
   "metadata": {},
   "source": [
    "# Comandos do Terminal no MAC/Linux\n",
    "\n",
    "Aqui estão alguns dos principais comandos do terminal no Linux:\n",
    "\n",
    "- `cd`: O comando `cd` é usado para mudar o diretório atual. Por exemplo, `cd /home/usuario` irá mudar para o diretório `/home/usuario`.\n",
    "\n",
    "- `pwd`: O comando `pwd` é usado para exibir o diretório atual. Por exemplo, ao executar `pwd`, será exibido o caminho completo do diretório atual.\n",
    "\n",
    "- `ls`: O comando `ls` é usado para listar os arquivos e diretórios no diretório atual. Por exemplo, `ls -l` irá listar os arquivos e diretórios com detalhes.\n",
    "\n",
    "- `rm`: O comando `rm` é usado para remover arquivos e diretórios. Por exemplo, `rm arquivo.txt` irá remover o arquivo chamado `arquivo.txt`.\n",
    "\n",
    "- `cp`: O comando `cp` é usado para copiar arquivos e diretórios. Por exemplo, `cp arquivo.txt destino/` irá copiar o arquivo chamado `arquivo.txt` para o diretório `destino/`.\n",
    "\n",
    "- `mv`: O comando `mv` é usado para mover arquivos e diretórios. Por exemplo, `mv arquivo.txt destino/` irá mover o arquivo chamado `arquivo.txt` para o diretório `destino/`.\n",
    "\n",
    "- `mkdir`: O comando `mkdir` é usado para criar diretórios. Por exemplo, `mkdir novo_diretorio` irá criar um diretório chamado `novo_diretorio`.\n",
    "\n",
    "- `rmdir`: O comando `rmdir` é usado para remover diretórios vazios. Por exemplo, `rmdir diretorio` irá remover o diretório chamado `diretorio`.\n",
    "\n",
    "- `cat`: O comando `cat` é usado para exibir o conteúdo de um arquivo. Por exemplo, `cat arquivo.txt` irá exibir o conteúdo do arquivo chamado `arquivo.txt`.\n",
    "\n",
    "- `grep`: O comando `grep` é usado para pesquisar por padrões em arquivos. Por exemplo, `grep palavra arquivo.txt` irá buscar a palavra \"palavra\" no arquivo chamado `arquivo.txt`.\n",
    "\n",
    "Esses são apenas alguns dos comandos mais comuns no terminal do Linux. Eles são úteis para realizar diversas tarefas, como manipulação de arquivos, navegação entre diretórios e busca de informações.\n",
    "\n"
   ]
  },
  {
   "cell_type": "markdown",
   "metadata": {},
   "source": [
    "# Referências de Pasta\n",
    "\n",
    "Para referenciar a pasta atual, use um ponto (`.`).\n",
    "\n",
    "Para referenciar a pasta pai, use dois pontos (`..`).\n",
    "\n",
    "Por exemplo:\n",
    "\n",
    "- Para navegar até um arquivo na pasta atual: `./arquivo.txt`\n",
    "- Para navegar até um arquivo na pasta pai: `../arquivo.txt`\n",
    "\n",
    "Se eu escrevo: `cd ../../Base_Computacao/Aula_1_CLI`, partindo da pasta `Aula_1_CL1`, eu retorno para a pasta `Aula_1_CL1`\n"
   ]
  },
  {
   "cell_type": "markdown",
   "metadata": {},
   "source": [
    "# Exercícios dos Comandos Básicos do Terminal no Mac/Linux\n",
    "\n",
    "Aqui estão alguns exercícios para praticar os comandos básicos do terminal no Mac/Linux:\n",
    "\n",
    "1. Navegação de Diretórios:\n",
    "   - Navegue até a pasta raiz do sistema.\n",
    "   - Navegue até a pasta pessoal do usuário.\n",
    "   - Navegue até a pasta \"Documentos\".\n",
    "   - Navegue até a pasta \"Imagens\".\n",
    "   - Navegue até a pasta \"Downloads\".\n",
    "   - Navegue até a pasta \"Desktop\".\n",
    "\n",
    "2. Listagem de Arquivos e Diretórios:\n",
    "   - Liste todos os arquivos e diretórios na pasta atual.\n",
    "   - Liste todos os arquivos e diretórios na pasta \"Documentos\".\n",
    "   - Liste todos os arquivos e diretórios na pasta \"Imagens\".\n",
    "   - Liste todos os arquivos e diretórios na pasta \"Downloads\".\n",
    "   - Liste todos os arquivos e diretórios na pasta \"Desktop\".\n",
    "\n",
    "3. Criação e Remoção de Arquivos e Diretórios:\n",
    "   - Crie um novo diretório chamado \"Exercicios\".\n",
    "   - Crie um novo arquivo chamado \"arquivo.txt\".\n",
    "   - Mova o arquivo \"arquivo.txt\" para a pasta \"Exercicios\".\n",
    "   - Remova o arquivo \"arquivo.txt\".\n",
    "   - Remova o diretório \"Exercicios\".\n",
    "\n",
    "4. Manipulação de Arquivos:\n",
    "   - Crie um novo arquivo chamado \"texto.txt\".\n",
    "   - Escreva o texto \"Olá, mundo!\" no arquivo \"texto.txt\".\n",
    "   - Exiba o conteúdo do arquivo \"texto.txt\".\n",
    "   - Pesquise por todas as ocorrências da palavra \"mundo\" no arquivo \"texto.txt\".\n",
    "\n"
   ]
  },
  {
   "cell_type": "markdown",
   "metadata": {
    "vscode": {
     "languageId": "markdown"
    }
   },
   "source": [
    "# Comandos do Terminal no Python e Anaconda\n",
    "\n",
    "\n",
    "\n",
    "## 1. `python`\n",
    "O comando `python` é utilizado para iniciar o interpretador Python no terminal. Você pode executar scripts Python diretamente no terminal usando `python script.py`.\n",
    "\n",
    "## 2. `pip`\n",
    "O comando `pip` é o instalador de pacotes do Python. Você pode instalar pacotes usando `pip install nome_do_pacote`, atualizar pacotes com `pip install --upgrade nome_do_pacote` e listar pacotes instalados com `pip list`.\n",
    "\n",
    "# Criar Ambiente Virtual no Anaconda\n",
    "\n",
    "Ambientes virtuais são ferramentas que permitem criar ambientes isolados para projetos Python. Cada ambiente virtual possui sua própria instalação de pacotes e dependências, evitando conflitos entre diferentes projetos. Isso é especialmente útil quando se trabalha com múltiplos projetos que requerem versões diferentes de pacotes.\n",
    "\n",
    "## 1. `conda create`\n",
    "O comando `conda create` é utilizado para criar um novo ambiente virtual no Anaconda. Por exemplo, `conda create --name meu_ambiente` cria um ambiente chamado `meu_ambiente`.\n",
    "\n",
    "## 2. `conda activate`\n",
    "Para ativar um ambiente criado no Anaconda, use `conda activate meu_ambiente`. Para desativar, use `conda deactivate`.\n",
    "\n",
    "## 3. `conda install`\n",
    "O comando `conda install` é utilizado para instalar pacotes em um ambiente Anaconda. Por exemplo, `conda install numpy` instala o pacote `numpy` no ambiente ativo.\n",
    "\n",
    "## 4. `conda list`\n",
    "Para listar todos os pacotes instalados no ambiente ativo, use `conda list`.\n",
    "\n",
    "## 5. `conda remove`\n",
    "Para remover um pacote de um ambiente Anaconda, use `conda remove nome_do_pacote`.\n",
    "\n",
    "Esses comandos são essenciais para gerenciar ambientes virtuais e pacotes no Python e no Anaconda, facilitando o desenvolvimento e a organização de projetos."
   ]
  }
 ],
 "metadata": {
  "language_info": {
   "name": "python"
  }
 },
 "nbformat": 4,
 "nbformat_minor": 2
}
